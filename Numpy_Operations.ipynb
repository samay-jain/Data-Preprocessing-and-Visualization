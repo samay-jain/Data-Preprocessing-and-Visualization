{
  "nbformat": 4,
  "nbformat_minor": 0,
  "metadata": {
    "colab": {
      "provenance": []
    },
    "kernelspec": {
      "name": "python3",
      "display_name": "Python 3"
    },
    "language_info": {
      "name": "python"
    }
  },
  "cells": [
    {
      "cell_type": "code",
      "execution_count": null,
      "metadata": {
        "colab": {
          "base_uri": "https://localhost:8080/"
        },
        "id": "rucFz9Uj9X9b",
        "outputId": "184e8bd7-fdfe-44a5-fd3b-998b575cec94"
      },
      "outputs": [
        {
          "output_type": "stream",
          "name": "stdout",
          "text": [
            "Output:  [ 6  8 10 12]\n"
          ]
        }
      ],
      "source": [
        "import numpy as np\n",
        "a1 = np.array([1,2,3,4])\n",
        "a2 = np.array([5,6,7,8])\n",
        "#Addition of Arrays\n",
        "r1 = np.add(a1,a2)\n",
        "print(\"Output: \",r1)"
      ]
    },
    {
      "cell_type": "code",
      "source": [
        "#-------------------------------------------------------------------------------\n",
        "#Subtraction of Arrays\n",
        "r2=np.subtract(a2,a1)\n",
        "print(\"Output: \",r2)"
      ],
      "metadata": {
        "colab": {
          "base_uri": "https://localhost:8080/"
        },
        "id": "5nX-YzozBc0B",
        "outputId": "a4e42eae-d797-4a35-eebb-e8edcf3dad9a"
      },
      "execution_count": null,
      "outputs": [
        {
          "output_type": "stream",
          "name": "stdout",
          "text": [
            "Output:  [4 4 4 4]\n"
          ]
        }
      ]
    },
    {
      "cell_type": "code",
      "source": [
        "#-------------------------------------------------------------------------------\n",
        "#Multiplication of Arrays\n",
        "r3=np.multiply(a1,a2)\n",
        "print(\"Output: \",r3)"
      ],
      "metadata": {
        "colab": {
          "base_uri": "https://localhost:8080/"
        },
        "id": "ntew1h8LB1If",
        "outputId": "fcb9a244-4ea3-4bb6-e1f5-b6170a32e811"
      },
      "execution_count": null,
      "outputs": [
        {
          "output_type": "stream",
          "name": "stdout",
          "text": [
            "Output:  [ 5 12 21 32]\n"
          ]
        }
      ]
    },
    {
      "cell_type": "code",
      "source": [
        "#-------------------------------------------------------------------------------\n",
        "#Division of Arrays\n",
        "r4=np.divide(a2,a1)\n",
        "print(\"Output: \",r4)"
      ],
      "metadata": {
        "colab": {
          "base_uri": "https://localhost:8080/"
        },
        "id": "vphstyOwB1lZ",
        "outputId": "034d6295-d6d6-451b-ea82-d085c300878d"
      },
      "execution_count": null,
      "outputs": [
        {
          "output_type": "stream",
          "name": "stdout",
          "text": [
            "Output:  [5.         3.         2.33333333 2.        ]\n"
          ]
        }
      ]
    },
    {
      "cell_type": "code",
      "source": [
        "#-------------------------------------------------------------------------------\n",
        "#Concatenation of Arrays\n",
        "r5=np.concatenate([a1,a2])\n",
        "print(\"Output: \",r5)"
      ],
      "metadata": {
        "colab": {
          "base_uri": "https://localhost:8080/"
        },
        "id": "zTnfo7fgCXFE",
        "outputId": "1b3230ac-4530-40b0-952b-b55a0512763d"
      },
      "execution_count": null,
      "outputs": [
        {
          "output_type": "stream",
          "name": "stdout",
          "text": [
            "Output:  [1 2 3 4 5 6 7 8]\n"
          ]
        }
      ]
    },
    {
      "cell_type": "code",
      "source": [
        "#-------------------------------------------------------------------------------\n",
        "#Appending elements to array\n",
        "r6=np.append(a1,[9,8,7,6])\n",
        "print(\"Output: \",r6)"
      ],
      "metadata": {
        "colab": {
          "base_uri": "https://localhost:8080/"
        },
        "id": "ym0UGVSBEGAi",
        "outputId": "65ce83a7-d1c1-4407-a33f-0b4f0a02994d"
      },
      "execution_count": null,
      "outputs": [
        {
          "output_type": "stream",
          "name": "stdout",
          "text": [
            "Output:  [1 2 3 4 9 8 7 6]\n"
          ]
        }
      ]
    },
    {
      "cell_type": "code",
      "source": [
        "#-------------------------------------------------------------------------------\n",
        "#Intersection Between two arrays\n",
        "r7=np.intersect1d(a2,r6)\n",
        "print(\"Output: \",r7)"
      ],
      "metadata": {
        "colab": {
          "base_uri": "https://localhost:8080/"
        },
        "id": "8tLX0jr2FR_Z",
        "outputId": "38624852-1582-48ee-a1de-8e042dcb81b7"
      },
      "execution_count": null,
      "outputs": [
        {
          "output_type": "stream",
          "name": "stdout",
          "text": [
            "Output:  [6 7 8]\n"
          ]
        }
      ]
    },
    {
      "cell_type": "code",
      "source": [
        "#Union of two Arrays\n",
        "r8=np.union1d([10,11,12,13],r7)\n",
        "print(\"Output: \",r8)"
      ],
      "metadata": {
        "colab": {
          "base_uri": "https://localhost:8080/"
        },
        "id": "AJEtkZZ9F0Gw",
        "outputId": "0dddf36d-92b1-48de-bb05-3a85d02c6cca"
      },
      "execution_count": null,
      "outputs": [
        {
          "output_type": "stream",
          "name": "stdout",
          "text": [
            "Output:  [ 6  7  8 10 11 12 13]\n"
          ]
        }
      ]
    },
    {
      "cell_type": "code",
      "source": [
        "#-------------------------------------------------------------------------------\n",
        "#Set Difference\n",
        "r9=np.setdiff1d(r8,a2)\n",
        "print(\"Output: \",r9) "
      ],
      "metadata": {
        "colab": {
          "base_uri": "https://localhost:8080/"
        },
        "id": "Kdb-W9S4GPgK",
        "outputId": "e2116e7e-d663-44d5-becf-ebdbced2dcfc"
      },
      "execution_count": null,
      "outputs": [
        {
          "output_type": "stream",
          "name": "stdout",
          "text": [
            "Output:  [10 11 12 13]\n"
          ]
        }
      ]
    },
    {
      "cell_type": "code",
      "source": [
        "#-------------------------------------------------------------------------------\n",
        "#Symmetric Difference\n",
        "r10=np.setxor1d(r8,a2)\n",
        "print(\"Output: \",r10)"
      ],
      "metadata": {
        "colab": {
          "base_uri": "https://localhost:8080/"
        },
        "id": "mqK1P_msGo24",
        "outputId": "403413b2-b833-457d-c886-ce79646e4a69"
      },
      "execution_count": null,
      "outputs": [
        {
          "output_type": "stream",
          "name": "stdout",
          "text": [
            "Output:  [ 5 10 11 12 13]\n"
          ]
        }
      ]
    },
    {
      "cell_type": "code",
      "source": [
        "#-------------------------------------------------------------------------------\n",
        "#Unique elements in Arrays\n",
        "r11=np.unique([1,2,3,4,5,2,3,4,5,9,9,9,42,39])\n",
        "print(\"Output: \",r11)"
      ],
      "metadata": {
        "colab": {
          "base_uri": "https://localhost:8080/"
        },
        "id": "oXYluxpxHV4W",
        "outputId": "42ec29bb-5c95-406a-f9eb-0b409193e7ad"
      },
      "execution_count": null,
      "outputs": [
        {
          "output_type": "stream",
          "name": "stdout",
          "text": [
            "Output:  [ 1  2  3  4  5  9 39 42]\n"
          ]
        }
      ]
    },
    {
      "cell_type": "code",
      "source": [
        "#-------------------------------------------------------------------------------\n",
        "#Maximum element present in an Array\n",
        "r12=np.amax(r11)\n",
        "print(\"Output: \",r12)"
      ],
      "metadata": {
        "colab": {
          "base_uri": "https://localhost:8080/"
        },
        "id": "-o1ZoMbxH2HJ",
        "outputId": "795e92e9-022a-4757-f19c-87fbb4ecf72d"
      },
      "execution_count": null,
      "outputs": [
        {
          "output_type": "stream",
          "name": "stdout",
          "text": [
            "Output:  42\n"
          ]
        }
      ]
    },
    {
      "cell_type": "code",
      "source": [
        "#-------------------------------------------------------------------------------\n",
        "#Minimum element present in an Array\n",
        "r13=np.amin(r11)\n",
        "print(\"Output: \",r13)"
      ],
      "metadata": {
        "colab": {
          "base_uri": "https://localhost:8080/"
        },
        "id": "IuAMNnbAIS7z",
        "outputId": "8fb69d30-5f13-41c5-86b2-42d7b15e91bb"
      },
      "execution_count": null,
      "outputs": [
        {
          "output_type": "stream",
          "name": "stdout",
          "text": [
            "Output:  1\n"
          ]
        }
      ]
    },
    {
      "cell_type": "code",
      "source": [
        "#-------------------------------------------------------------------------------\n",
        "#Reshaping Array\n",
        "r14=np.reshape(r11,(2,4))\n",
        "print(\"Output: \",r14)"
      ],
      "metadata": {
        "colab": {
          "base_uri": "https://localhost:8080/"
        },
        "id": "Q4BoQ4y-Ijol",
        "outputId": "d9cf7ac5-aed6-4520-d51a-598b9771f435"
      },
      "execution_count": null,
      "outputs": [
        {
          "output_type": "stream",
          "name": "stdout",
          "text": [
            "Output:  [[ 1  2  3  4]\n",
            " [ 5  9 39 42]]\n"
          ]
        }
      ]
    },
    {
      "cell_type": "code",
      "source": [
        "#Shape of Array\n",
        "r15=r14\n",
        "print(\"Output: \",r15.shape)"
      ],
      "metadata": {
        "colab": {
          "base_uri": "https://localhost:8080/"
        },
        "id": "i_244iHYI4Uu",
        "outputId": "ae870697-8ee4-4784-fb79-fa9c571c8a3b"
      },
      "execution_count": null,
      "outputs": [
        {
          "output_type": "stream",
          "name": "stdout",
          "text": [
            "Output:  (2, 4)\n"
          ]
        }
      ]
    },
    {
      "cell_type": "code",
      "source": [
        "#-------------------------------------------------------------------------------\n",
        "#Adding Elements to Array using arange method\n",
        "r16=np.arange(0,9).reshape(3,3)\n",
        "print(\"Output: \\n\",r16)"
      ],
      "metadata": {
        "colab": {
          "base_uri": "https://localhost:8080/"
        },
        "id": "WioW9BwuJCBu",
        "outputId": "5c822c03-ea71-49e9-e503-4ea809766e5a"
      },
      "execution_count": null,
      "outputs": [
        {
          "output_type": "stream",
          "name": "stdout",
          "text": [
            "Output: \n",
            " [[0 1 2]\n",
            " [3 4 5]\n",
            " [6 7 8]]\n"
          ]
        }
      ]
    },
    {
      "cell_type": "code",
      "source": [
        "#-------------------------------------------------------------------------------\n",
        "#Converting Array to list\n",
        "r17=r16.tolist()\n",
        "print(\"Output: \",r17,\" Type: \",type(r17))"
      ],
      "metadata": {
        "colab": {
          "base_uri": "https://localhost:8080/"
        },
        "id": "NqfbB-zAJnB_",
        "outputId": "bb1b6f29-88bd-419e-f927-d011a8c21967"
      },
      "execution_count": null,
      "outputs": [
        {
          "output_type": "stream",
          "name": "stdout",
          "text": [
            "Output:  [[0, 1, 2], [3, 4, 5], [6, 7, 8]]  Type:  <class 'list'>\n"
          ]
        }
      ]
    },
    {
      "cell_type": "code",
      "source": [
        "#-------------------------------------------------------------------------------\n",
        "#Sorting Array\n",
        "a3=np.array([[1,4],[1,3]])\n",
        "r18=np.sort(a3)\n",
        "print(\"Output: \\nSorting: \",r18)\n",
        "r18=np.sort(a3,axis=None)\n",
        "print(\"Axis=None: \",r18)\n",
        "r18=np.sort(a3,axis=0)\n",
        "print(\"Axis=0: \",r18)"
      ],
      "metadata": {
        "colab": {
          "base_uri": "https://localhost:8080/"
        },
        "id": "jVp_CFrdKYPL",
        "outputId": "e0a6cd0e-2b4c-40a5-ba7c-9e65e7ec9fdb"
      },
      "execution_count": null,
      "outputs": [
        {
          "output_type": "stream",
          "name": "stdout",
          "text": [
            "Output: \n",
            "Sorting:  [[1 4]\n",
            " [1 3]]\n",
            "Axis=None:  [1 1 3 4]\n",
            "Axis=0:  [[1 3]\n",
            " [1 4]]\n"
          ]
        }
      ]
    },
    {
      "cell_type": "code",
      "source": [
        "#-------------------------------------------------------------------------------\n",
        "#Slicing of Arrays\n",
        "r19=r11[5:8]\n",
        "print(\"Output: \",r19)"
      ],
      "metadata": {
        "colab": {
          "base_uri": "https://localhost:8080/"
        },
        "id": "nIewW-pvMsnW",
        "outputId": "98282f20-6149-4121-ae5c-ef69758547a9"
      },
      "execution_count": null,
      "outputs": [
        {
          "output_type": "stream",
          "name": "stdout",
          "text": [
            "Output:  [ 9 39 42]\n"
          ]
        }
      ]
    },
    {
      "cell_type": "code",
      "source": [
        "#-------------------------------------------------------------------------------\n",
        "#2d Matrix Multiplication\n",
        "a4=np.array([[2,4],[6,8]])\n",
        "r20=np.matmul(a3,a4)\n",
        "print(\"Output: \\n\",r20)"
      ],
      "metadata": {
        "colab": {
          "base_uri": "https://localhost:8080/"
        },
        "id": "DcXCd3PmNGo2",
        "outputId": "1c5ed073-da47-4a73-cf71-f1bc3e40d601"
      },
      "execution_count": null,
      "outputs": [
        {
          "output_type": "stream",
          "name": "stdout",
          "text": [
            "Output: \n",
            " [[26 36]\n",
            " [20 28]]\n"
          ]
        }
      ]
    },
    {
      "cell_type": "code",
      "source": [
        "#2D Matrix Addition\n",
        "a5=np.array([[3,5],[7,9]])\n",
        "r21=np.add(a4,a5)\n",
        "print(\"Output: \\n\",r21)"
      ],
      "metadata": {
        "colab": {
          "base_uri": "https://localhost:8080/"
        },
        "id": "Bq2NjUDOOD3U",
        "outputId": "441a0f00-11d5-49be-8535-8e11142a913b"
      },
      "execution_count": null,
      "outputs": [
        {
          "output_type": "stream",
          "name": "stdout",
          "text": [
            "Output: \n",
            " [[ 5  9]\n",
            " [13 17]]\n"
          ]
        }
      ]
    },
    {
      "cell_type": "code",
      "source": [
        "#-------------------------------------------------------------------------------\n",
        "#2D Matrix Subtraction\n",
        "r22=np.subtract(a5,a4)\n",
        "print(\"Output: \\n\",r22)"
      ],
      "metadata": {
        "colab": {
          "base_uri": "https://localhost:8080/"
        },
        "id": "owNgnExDOpyI",
        "outputId": "93bd2096-70fe-473e-d21a-7203c1e92455"
      },
      "execution_count": null,
      "outputs": [
        {
          "output_type": "stream",
          "name": "stdout",
          "text": [
            "Output: \n",
            " [[1 1]\n",
            " [1 1]]\n"
          ]
        }
      ]
    },
    {
      "cell_type": "code",
      "source": [
        "#-------------------------------------------------------------------------------\n",
        "#Square of each element in a4 Array \n",
        "r23=(a4**2)\n",
        "print(\"Output: \\n\",r23)"
      ],
      "metadata": {
        "colab": {
          "base_uri": "https://localhost:8080/"
        },
        "id": "4xLvPRmEPxKz",
        "outputId": "a41ade3e-a3af-4df1-e548-6cb01472d743"
      },
      "execution_count": null,
      "outputs": [
        {
          "output_type": "stream",
          "name": "stdout",
          "text": [
            "Output: \n",
            " [[ 4 16]\n",
            " [36 64]]\n"
          ]
        }
      ]
    },
    {
      "cell_type": "code",
      "source": [
        "#-------------------------------------------------------------------------------\n",
        "#Dividing Each element in a4 Array\n",
        "r24=(a4/2)\n",
        "print(\"Output: \\n\",r24)"
      ],
      "metadata": {
        "colab": {
          "base_uri": "https://localhost:8080/"
        },
        "id": "7c5RviweQQbl",
        "outputId": "8e238d7a-734f-490b-b545-d262300ccff0"
      },
      "execution_count": null,
      "outputs": [
        {
          "output_type": "stream",
          "name": "stdout",
          "text": [
            "Output: \n",
            " [[1. 2.]\n",
            " [3. 4.]]\n"
          ]
        }
      ]
    },
    {
      "cell_type": "code",
      "source": [
        "#-------------------------------------------------------------------------------\n",
        "#Max and Min in Array a4\n",
        "r25=np.min(a4)\n",
        "print(\"Output: Minimum: \",r25)\n",
        "r26=np.max(a4)\n",
        "print(\"Maximum: \",r26)"
      ],
      "metadata": {
        "colab": {
          "base_uri": "https://localhost:8080/"
        },
        "id": "IgJHSsSUQe08",
        "outputId": "d288fe24-15a6-456f-b5e8-6333f1ba9c60"
      },
      "execution_count": null,
      "outputs": [
        {
          "output_type": "stream",
          "name": "stdout",
          "text": [
            "Output: Minimum:  2\n",
            "Maximum:  8\n"
          ]
        }
      ]
    },
    {
      "cell_type": "code",
      "source": [
        "#-------------------------------------------------------------------------------\n",
        "#Printing Identity Matrix of 3x3\n",
        "r27=np.identity(2)\n",
        "print(\"Output: \",r27)\n"
      ],
      "metadata": {
        "colab": {
          "base_uri": "https://localhost:8080/"
        },
        "id": "6uymz3_qTT22",
        "outputId": "3bd52f72-f8a2-4be9-86da-997917210491"
      },
      "execution_count": null,
      "outputs": [
        {
          "output_type": "stream",
          "name": "stdout",
          "text": [
            "Output:  [[1. 0.]\n",
            " [0. 1.]]\n"
          ]
        }
      ]
    }
  ]
}