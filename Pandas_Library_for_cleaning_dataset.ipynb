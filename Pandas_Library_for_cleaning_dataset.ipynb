{
  "nbformat": 4,
  "nbformat_minor": 0,
  "metadata": {
    "colab": {
      "provenance": []
    },
    "kernelspec": {
      "name": "python3",
      "display_name": "Python 3"
    },
    "language_info": {
      "name": "python"
    }
  },
  "cells": [
    {
      "cell_type": "code",
      "execution_count": null,
      "metadata": {
        "colab": {
          "base_uri": "https://localhost:8080/"
        },
        "id": "CWNt-eA2Zu4i",
        "outputId": "52d9c23c-95e8-4a34-bc8f-4b24555c1579"
      },
      "outputs": [
        {
          "output_type": "stream",
          "name": "stdout",
          "text": [
            "  RollNo  Maths  Physics  Chemistry  English  Hindi\n",
            "0      1     85       56         76       58     90\n",
            "1      2     70       71         72       75     85\n",
            "2      3     55       75         57       86     83\n"
          ]
        }
      ],
      "source": [
        "import pandas as pd\n",
        "d = {'RollNo':['1','2','3'],'Maths':[85,70,55],'Physics':[56,71,75],\n",
        "     'Chemistry':[76,72,57],'English':[58,75,86],'Hindi':[90,85,83],}\n",
        "df = pd.DataFrame(d)\n",
        "df1 = pd.DataFrame(d)\n",
        "df2 = pd.DataFrame(d)\n",
        "df3 = pd.DataFrame(d)\n",
        "print(df)"
      ]
    },
    {
      "cell_type": "code",
      "source": [
        "#Groupby Method in Pandas-------------------------------------------------------\n",
        "groupby_dict = {'Maths':'PCM','Physics':'PCM','Chemistry':'PCM',\n",
        "                'English':'Language','Hindi':'Language'}\n",
        "df = df.set_index('RollNo')\n",
        "df = df.groupby(groupby_dict, axis = 1).min()\n",
        "print(df)"
      ],
      "metadata": {
        "colab": {
          "base_uri": "https://localhost:8080/"
        },
        "id": "OGHveF2VbXw4",
        "outputId": "a82bc16e-f963-45f9-9e50-395f58221909"
      },
      "execution_count": null,
      "outputs": [
        {
          "output_type": "stream",
          "name": "stdout",
          "text": [
            "        Language  PCM\n",
            "RollNo               \n",
            "1             58   56\n",
            "2             75   70\n",
            "3             83   55\n"
          ]
        }
      ]
    },
    {
      "cell_type": "code",
      "source": [
        "#merge Method in Pandas---------------------------------------------------------\n",
        "newTest = {'RollNo':['1', '2', '3'],'Biology':[70,75,80],'Defence':[80,74,66]}\n",
        "df4=pd.DataFrame(newTest)\n",
        "df2=pd.merge(df2,df4)\n",
        "print(\"Output: \")\n",
        "print(df2)"
      ],
      "metadata": {
        "colab": {
          "base_uri": "https://localhost:8080/"
        },
        "id": "N_n_gZ4Zetvc",
        "outputId": "1884ce7d-1e1b-4499-a4d4-76695d2428e7"
      },
      "execution_count": null,
      "outputs": [
        {
          "output_type": "stream",
          "name": "stdout",
          "text": [
            "Output: \n",
            "  RollNo  Maths  Physics  Chemistry  English  Hindi  Biology  Defence\n",
            "0      1     85       56         76       58     90       70       80\n",
            "1      2     70       71         72       75     85       75       74\n",
            "2      3     55       75         57       86     83       80       66\n"
          ]
        }
      ]
    },
    {
      "cell_type": "code",
      "source": [
        "#concat method in pandas--------------------------------------------------------\n",
        "print(\"Output: Before Concatenation:\\n\",df3)\n",
        "d2 = {'RollNo':['2','3','6','7','8'],'Maths':[70,55,35,67,89],'Physics':[71,75,56,71,75],\n",
        "      'Chemistry':[72,57,72,84,57],'English':[75,86,75,83,86],'Hindi':[85,83,85,89,83],}\n",
        "df5 = pd.DataFrame(d2)\n",
        "result=pd.concat([df3,df5])\n",
        "print(\"After Concatenation:\\n\",result)"
      ],
      "metadata": {
        "colab": {
          "base_uri": "https://localhost:8080/"
        },
        "id": "i4xMPkQbaHVj",
        "outputId": "590e5ce1-a06f-4acd-e516-d2ae70413780"
      },
      "execution_count": null,
      "outputs": [
        {
          "output_type": "stream",
          "name": "stdout",
          "text": [
            "Output:\n",
            "Before Concatenation:\n",
            "   RollNo  Maths  Physics  Chemistry  English  Hindi\n",
            "0      1     85       56         76       58     90\n",
            "1      2     70       71         72       75     85\n",
            "2      3     55       75         57       86     83 \n",
            "\n",
            "After Concatenation:\n",
            "   RollNo  Maths  Physics  Chemistry  English  Hindi\n",
            "0      1     85       56         76       58     90\n",
            "1      2     70       71         72       75     85\n",
            "2      3     55       75         57       86     83\n",
            "0      2     70       71         72       75     85\n",
            "1      3     55       75         57       86     83\n",
            "2      6     35       56         72       75     85\n",
            "3      7     67       71         84       83     89\n",
            "4      8     89       75         57       86     83\n"
          ]
        }
      ]
    },
    {
      "cell_type": "code",
      "source": [
        "#Data Organisation (Removing Duplicates)----------------------------------------\n",
        "result.drop_duplicates(subset=\"RollNo\",keep=False, inplace=True)\n",
        "print(\"Output: \")\n",
        "print(result)"
      ],
      "metadata": {
        "colab": {
          "base_uri": "https://localhost:8080/"
        },
        "id": "9Z4WnpHAdp1c",
        "outputId": "1ee24915-2d5d-44d7-9d32-0484b43e11fe"
      },
      "execution_count": null,
      "outputs": [
        {
          "output_type": "stream",
          "name": "stdout",
          "text": [
            "Output: \n",
            "  RollNo  Maths  Physics  Chemistry  English  Hindi\n",
            "0      1     85       56         76       58     90\n",
            "2      6     35       56         72       75     85\n",
            "3      7     67       71         84       83     89\n",
            "4      8     89       75         57       86     83\n"
          ]
        }
      ]
    },
    {
      "cell_type": "code",
      "source": [
        "#Min–Max transformation---------------------------------------------------------\n",
        "from sklearn.preprocessing import MinMaxScaler\n",
        "scaler = MinMaxScaler()\n",
        "result = result.set_index('RollNo')\n",
        "df_scaled = pd.DataFrame(scaler.fit_transform(result), \n",
        "                         columns=['Maths','Physics','Chemistry','English','Hindi'])\n",
        "print(\"Output: \")\n",
        "print(df_scaled)"
      ],
      "metadata": {
        "colab": {
          "base_uri": "https://localhost:8080/"
        },
        "id": "Wdhh5u_bhKnc",
        "outputId": "dfd56431-4837-4e77-d6ef-320990a7d809"
      },
      "execution_count": null,
      "outputs": [
        {
          "output_type": "stream",
          "name": "stdout",
          "text": [
            "Output: \n",
            "      Maths   Physics  Chemistry   English     Hindi\n",
            "0  0.925926  0.000000   0.703704  0.000000  1.000000\n",
            "1  0.000000  0.000000   0.555556  0.607143  0.285714\n",
            "2  0.592593  0.789474   1.000000  0.892857  0.857143\n",
            "3  1.000000  1.000000   0.000000  1.000000  0.000000\n"
          ]
        }
      ]
    },
    {
      "cell_type": "code",
      "source": [
        "#Z-Score---------------------------------------------------------------\n",
        "def z_score(df):\n",
        "    df_std = df.copy()\n",
        "    for column in df_std.columns:\n",
        "        df_std[column] = (df_std[column] - df_std[column].mean()) / df_std[column].std()\n",
        "    return df_std\n",
        "print(\"Output: \")\n",
        "print(z_score(result))"
      ],
      "metadata": {
        "colab": {
          "base_uri": "https://localhost:8080/"
        },
        "id": "oLNRDh1cj2Ip",
        "outputId": "7c6f410e-a88e-4e9c-9269-395867d34bbb"
      },
      "execution_count": null,
      "outputs": [
        {
          "output_type": "stream",
          "name": "stdout",
          "text": [
            "Output: \n",
            "           Maths   Physics  Chemistry   English     Hindi\n",
            "RollNo                                                   \n",
            "1       0.650313 -0.854282   0.331133 -1.393696  0.983645\n",
            "6      -1.381916 -0.854282  -0.022076 -0.039820 -0.529655\n",
            "7      -0.081289  0.653275   1.037550  0.597298  0.680985\n",
            "8       0.812892  1.055290  -1.346608  0.836218 -1.134975\n"
          ]
        }
      ]
    }
  ]
}